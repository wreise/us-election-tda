{
 "cells": [
  {
   "cell_type": "markdown",
   "metadata": {},
   "source": [
    "# The shape of the United States presidential elections\n",
    "### There are many ways to map election results - you've pobably not tried this one\n",
    "\n",
    "This Jupyter notebook reproduces the results discussed in a [blog post](https://towardsdatascience.com/the-shape-of-the-united-states-presidential-elections-c336d80e4ddf) on Medium's Towards Data Science. Further details and explanations can be found in the [blog post](https://towardsdatascience.com/the-shape-of-the-united-states-presidential-elections-c336d80e4ddf).\n",
    "\n",
    "\n",
    "## Libraries"
   ]
  },
  {
   "cell_type": "code",
   "execution_count": 1,
   "metadata": {},
   "outputs": [
    {
     "ename": "ModuleNotFoundError",
     "evalue": "No module named 'seaborn'",
     "output_type": "error",
     "traceback": [
      "\u001b[0;31m---------------------------------------------------------------------------\u001b[0m",
      "\u001b[0;31mModuleNotFoundError\u001b[0m                       Traceback (most recent call last)",
      "\u001b[0;32m<ipython-input-1-8317a717a5b2>\u001b[0m in \u001b[0;36m<module>\u001b[0;34m\u001b[0m\n\u001b[1;32m      9\u001b[0m \u001b[0;32mfrom\u001b[0m \u001b[0mmatplotlib\u001b[0m\u001b[0;34m.\u001b[0m\u001b[0mcolors\u001b[0m \u001b[0;32mimport\u001b[0m \u001b[0mrgb2hex\u001b[0m\u001b[0;34m\u001b[0m\u001b[0;34m\u001b[0m\u001b[0m\n\u001b[1;32m     10\u001b[0m \u001b[0;34m\u001b[0m\u001b[0m\n\u001b[0;32m---> 11\u001b[0;31m \u001b[0;32mimport\u001b[0m \u001b[0mseaborn\u001b[0m \u001b[0;32mas\u001b[0m \u001b[0msns\u001b[0m\u001b[0;34m\u001b[0m\u001b[0;34m\u001b[0m\u001b[0m\n\u001b[0m\u001b[1;32m     12\u001b[0m \u001b[0msns\u001b[0m\u001b[0;34m.\u001b[0m\u001b[0mset\u001b[0m\u001b[0;34m(\u001b[0m\u001b[0;34m)\u001b[0m\u001b[0;34m\u001b[0m\u001b[0;34m\u001b[0m\u001b[0m\n\u001b[1;32m     13\u001b[0m \u001b[0;34m\u001b[0m\u001b[0m\n",
      "\u001b[0;31mModuleNotFoundError\u001b[0m: No module named 'seaborn'"
     ]
    }
   ],
   "source": [
    "import warnings\n",
    "warnings.simplefilter('ignore')\n",
    "\n",
    "import os\n",
    "import pandas as pd\n",
    "import numpy as np\n",
    "import matplotlib.pyplot as plt\n",
    "from matplotlib.cm import get_cmap\n",
    "from matplotlib.colors import rgb2hex\n",
    "\n",
    "import seaborn as sns\n",
    "sns.set()\n",
    "\n",
    "import utils\n",
    "import plotting\n",
    "\n",
    "from sklearn.preprocessing import MinMaxScaler\n",
    "from gtda.mapper import make_mapper_pipeline\n",
    "from gtda.mapper import plot_static_mapper_graph\n",
    "\n",
    "from sklearn.decomposition import PCA\n",
    "from sklearn.pipeline import Pipeline\n",
    "from sklearn.preprocessing import FunctionTransformer"
   ]
  },
  {
   "cell_type": "markdown",
   "metadata": {},
   "source": [
    "## Data\n",
    "As a first step, we will read the full dataset. As we are interested in investigating temporal evolution, we indentified numerical features changing between 2000 to 2016 and extract them. Giotto's Mappper implementation expects a numpy ndarray. Thus, we extract an ndarray for each election year."
   ]
  },
  {
   "cell_type": "code",
   "execution_count": null,
   "metadata": {},
   "outputs": [],
   "source": [
    "# read full dataset\n",
    "df = pd.read_pickle(os.path.join('data',\n",
    "                                 'usa_election_full_dataset.pickle'))\n",
    "\n",
    "df.head()"
   ]
  },
  {
   "cell_type": "code",
   "execution_count": null,
   "metadata": {},
   "outputs": [],
   "source": [
    "# extract and transform relevant columns\n",
    "data = utils.get_data(df)"
   ]
  },
  {
   "cell_type": "code",
   "execution_count": null,
   "metadata": {},
   "outputs": [],
   "source": [
    "# split data per year\n",
    "data_per_year = utils.split_data_by_year(data, df)"
   ]
  },
  {
   "cell_type": "markdown",
   "metadata": {},
   "source": [
    "## Mapper\n",
    "We want to use the first two principal components as a filter function. However, we observe that the resulting filter value distribution for the election year 2016 is\n",
    "1. skewed in the first component and \n",
    "2. has heavy tales in the second component.\n",
    "\n",
    "We, therefore, find a transformation to obtain a more compact distribution. Thanks to Giotto's compatibility with Sklearn, we can simply define the filter function as a pipeline."
   ]
  },
  {
   "cell_type": "code",
   "execution_count": null,
   "metadata": {},
   "outputs": [],
   "source": [
    "# define pca as initial filter function\n",
    "pca = PCA(n_components=2)"
   ]
  },
  {
   "cell_type": "code",
   "execution_count": null,
   "metadata": {},
   "outputs": [],
   "source": [
    "# analyse filter values for 2016\n",
    "filtr_vals = pca.fit_transform(data_per_year['2016'])\n",
    "\n",
    "fig, ax = plt.subplots(nrows=2, ncols=2, figsize=(15, 10))\n",
    "\n",
    "# pca 1\n",
    "(sns.distplot(filtr_vals[:, 0],\n",
    "              ax=ax[0, 0])\n",
    " .set_title('Original PCA 1'))\n",
    "(sns.distplot(np.log(filtr_vals[:, 0] - min(filtr_vals[:, 0]) + 1),\n",
    "              ax=ax[1, 0])\n",
    " .set_title('Transformed PCA 1'))\n",
    "\n",
    "# pca 2\n",
    "(sns.distplot(filtr_vals[:, 1],\n",
    "              ax=ax[0, 1])\n",
    " .set_title('PCA 2'))\n",
    "(sns.distplot(np.log(np.abs(filtr_vals[:, 1]) + 1),\n",
    "              ax=ax[1, 1])\n",
    " .set_title('Transformed PCA 2'));"
   ]
  },
  {
   "cell_type": "code",
   "execution_count": null,
   "metadata": {},
   "outputs": [],
   "source": [
    "# define filter function\n",
    "filter_func = Pipeline([('pca', PCA(n_components=2)),\n",
    "                        ('trafo', FunctionTransformer(utils.log_transform_2d_filter_values))])"
   ]
  },
  {
   "cell_type": "code",
   "execution_count": null,
   "metadata": {},
   "outputs": [],
   "source": [
    "# perform mapper\n",
    "pipe = make_mapper_pipeline(filter_func=filter_func, scaler=MinMaxScaler())\n",
    "graph = pipe.fit_transform(data_per_year['2016'])"
   ]
  },
  {
   "cell_type": "markdown",
   "metadata": {},
   "source": [
    "### Plotting\n",
    "Now that we performed the Mapper algorithm, we can analyse the result visually."
   ]
  },
  {
   "cell_type": "code",
   "execution_count": null,
   "metadata": {
    "scrolled": false
   },
   "outputs": [],
   "source": [
    "# retrieve tuple of with datapoints per node as entries\n",
    "node_elements_full = graph['node_metadata']['node_elements']\n",
    "\n",
    "# set node color to be the mean filter function value of data points in a cluster (i.e. node)\n",
    "node_color = np.array(utils.get_node_summary(node_elements_full,\n",
    "                                             filter_func.fit_transform(data_per_year['2016']),\n",
    "                                             summary_stat=np.mean))\n",
    "\n",
    "# define custom options for plot:\n",
    "# 1. set node size as uniform\n",
    "# 2. set minimum and maximum color value\n",
    "plotly_kwargs = {\n",
    "    'node_trace_marker_size': [1] * len(node_elements_full),\n",
    "    'node_trace_marker_cmin': min(node_color),\n",
    "    'node_trace_marker_cmax': max(node_color)}\n",
    "\n",
    "# create figure object\n",
    "fig = plot_static_mapper_graph(pipe, data_per_year['2016'],\n",
    "                               layout='kk', layout_dim=2,\n",
    "                               node_color_statistic=node_color,\n",
    "                               color_by_columns_dropdown=False,\n",
    "                               plotly_kwargs=plotly_kwargs)\n",
    "# show figure and enable scrolling\n",
    "fig.show(config={'scrollZoom': True})"
   ]
  },
  {
   "cell_type": "markdown",
   "metadata": {},
   "source": [
    "### Colored by Economic Indicator\n",
    "We can find different regions in the Mapper graph based on the features we used. As a first step, we only plot the big connected component and define the singletons/small connected components as one region. The regions of the big component are revealed by coloring the nodes by the mean value of a given feature. Here, we limit ourselves to the three most informative features."
   ]
  },
  {
   "cell_type": "code",
   "execution_count": null,
   "metadata": {},
   "outputs": [],
   "source": [
    "vertices_to_remove = utils.get_small_cluster_ids()\n",
    "nodes_to_remove = np.array(list(v_ for v in vertices_to_remove for v_ in graph['node_metadata']['node_elements'][v]))"
   ]
  },
  {
   "cell_type": "code",
   "execution_count": null,
   "metadata": {
    "scrolled": false
   },
   "outputs": [],
   "source": [
    "relevant_cols = ['Personal income (thousands of dollars)',\n",
    "                 'Per capita personal income',\n",
    "                 'Per capita retirement and other',]\n",
    "\n",
    "for col in relevant_cols:\n",
    "    print(f'-- {col} --')\n",
    "    # set node color to mean feature value\n",
    "    df_filtered = utils.get_filtered_values(df[df['year'] == 2016][col].values, nodes_to_remove)\n",
    "    node_color = np.array([np.mean(df_filtered[graph['node_metadata']['node_elements'][vgroup]])\n",
    "                           for vgroup in range(graph.vcount())])\n",
    "    # set node text\n",
    "    node_text = utils.get_node_text(\n",
    "        dict(zip(range(len(node_elements_full)),\n",
    "                 node_elements_full)),\n",
    "             utils.get_n_electors(\n",
    "                 node_elements_full,\n",
    "                 df[df['year'] == 2016]['n_electors'].reset_index(drop=True)),\n",
    "             node_color,\n",
    "             col)\n",
    "\n",
    "    # set custom plot options\n",
    "    plotly_kwargs = {\n",
    "        'node_trace_text': node_text,\n",
    "        'node_trace_marker_size': [1] * len(node_elements_full),\n",
    "        'node_trace_marker_cmin': min(node_color),\n",
    "        'node_trace_marker_cmax': max(node_color)}\n",
    "\n",
    "    # get figure object\n",
    "    fig = plot_static_mapper_graph(pipe, data_per_year['2016'],\n",
    "                                             layout = 'kk', layout_dim=2,\n",
    "                                             node_color_statistic = node_color,\n",
    "                                             color_by_columns_dropdown=True,\n",
    "                                             plotly_kwargs=plotly_kwargs, clone_pipeline=False)\n",
    "    \n",
    "    # show figure and enable zooming via scrolling\n",
    "    fig.show(config={'scrollZoom': True})"
   ]
  },
  {
   "cell_type": "markdown",
   "metadata": {},
   "source": [
    "The six regions we identify are as follows:\n",
    "1. High net worth: light green\n",
    "2. High net worth per inhabitant: violet\n",
    "3. High per capita retirement: pink\n",
    "4. Elevated and average net worth: orange\n",
    "5. Low net worth: yellow\n",
    "6. Singletons: dark green\n",
    "\n",
    "We can, on the one hand, color the Mapper graph accordingly:"
   ]
  },
  {
   "cell_type": "code",
   "execution_count": null,
   "metadata": {},
   "outputs": [],
   "source": [
    "colorscale = dict(zip(range(6), ['#004e00', '#7CFC00', '#6f0043','#32a8a0', '#f8de00', '#f80096']))\n",
    "\n",
    "fig = plotting.get_region_plot(pipe, data_per_year['2016'], 'kk',\n",
    "                               node_elements_full, colorscale)\n",
    "fig.show(config={'scrollZoom': True})\n"
   ]
  },
  {
   "cell_type": "markdown",
   "metadata": {},
   "source": [
    "On the other hand, we can also color the counties on a map of the USA by the color of the region they belong to. The color of a county belonging to multiple regions is given by the mean of their colors."
   ]
  },
  {
   "cell_type": "code",
   "execution_count": null,
   "metadata": {},
   "outputs": [],
   "source": [
    "colorscale = dict(zip(range(6), ['#004e00', '#7CFC00', '#6f0043','#32a8a0', '#f8de00', '#f80096']))\n",
    "fig = plotting.get_county_plot_by_region(data_per_year['2016'], colorscale,\n",
    "                                         node_elements_full,\n",
    "                                         df[df['year'] == 2016]['fips'].tolist())\n",
    "fig.show(config={'scrollZoom': True})"
   ]
  },
  {
   "cell_type": "markdown",
   "metadata": {},
   "source": [
    "### Colored by Winner of Presidential Election\n",
    "Even though we used only economic indicators for the Mapper algorithm, we can color the graph by the percentage of counties won by Democtrats/Republicans. Thus, red nodes indicate a cluster where most counties were won by Republicans. In addition, we adjust the size of a node (<i>i.e.</i> cluster) based on the number of counties it represents."
   ]
  },
  {
   "cell_type": "code",
   "execution_count": null,
   "metadata": {
    "scrolled": false
   },
   "outputs": [],
   "source": [
    "for year in range(2016, 1996, -4):\n",
    "    print(f'-- {year} Election --')\n",
    "    fig = plotting.get_graph_plot_colored_by_election_results(\n",
    "        pipe, year, df, data_per_year[f'{year}'])\n",
    "    fig.show(config={'scrollZoom': True})"
   ]
  },
  {
   "cell_type": "markdown",
   "metadata": {},
   "source": [
    "### Example for 3D Plot\n",
    "Giotto's Mapper implementation also includes the possibility to plot the result in 3D!"
   ]
  },
  {
   "cell_type": "code",
   "execution_count": null,
   "metadata": {},
   "outputs": [],
   "source": [
    "# set layout\n",
    "layout = graph.layout('kamada_kawai_3d')\n",
    "\n",
    "# define node color\n",
    "node_color = np.array(utils.get_node_summary(node_elements_full,\n",
    "                                    df[df['year'] == 2016]['winner']\n",
    "                                    .values,\n",
    "                                    summary_stat=np.mean))\n",
    "\n",
    "# define node text\n",
    "node_text = utils.get_node_text(\n",
    "    dict(zip(range(len(node_elements_full)),\n",
    "                   node_elements_full)),\n",
    "         utils.get_n_electors(\n",
    "             node_elements_full,\n",
    "             df[df['year'] == 2016]['n_electors'].reset_index(drop=True)),\n",
    "         node_color,\n",
    "         'Percentage of Counties Won by Republicans')\n",
    "\n",
    "# set custom plot options\n",
    "plotly_kwargs = {\n",
    "    'node_trace_marker_colorscale': 'RdBu',\n",
    "    'node_trace_marker_reversescale': True,\n",
    "    'node_trace_hoverlabel': dict(\n",
    "        bgcolor=list(map(lambda x: rgb2hex(get_cmap('RdBu_r')(x)),\n",
    "                         node_color))),\n",
    "    'node_trace_text': node_text,\n",
    "    'node_trace_marker_size':\n",
    "    utils.get_n_electors(node_elements_full,\n",
    "                        df[df['year'] == 2016]['n_electors'].reset_index(drop=True)),\n",
    "    'node_trace_marker_sizeref':\n",
    "    .05 / max(utils.get_n_electors(node_elements_full,\n",
    "                                    df[df['year'] == 2016]['n_electors'].reset_index(drop=True)))}\n",
    "\n",
    "\n",
    "fig = plot_static_mapper_graph(pipe, data,\n",
    "                               layout='kk', layout_dim=3,\n",
    "                               node_color_statistic=node_color,\n",
    "                               color_by_columns_dropdown=True,\n",
    "                               plotly_kwargs=plotly_kwargs)\n",
    "fig.show()"
   ]
  }
 ],
 "metadata": {
  "kernelspec": {
   "display_name": "Python 3",
   "language": "python",
   "name": "python3"
  },
  "language_info": {
   "codemirror_mode": {
    "name": "ipython",
    "version": 3
   },
   "file_extension": ".py",
   "mimetype": "text/x-python",
   "name": "python",
   "nbconvert_exporter": "python",
   "pygments_lexer": "ipython3",
   "version": "3.6.9"
  }
 },
 "nbformat": 4,
 "nbformat_minor": 2
}
